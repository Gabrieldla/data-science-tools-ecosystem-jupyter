{
 "cells": [
  {
   "cell_type": "markdown",
   "id": "20e1c9df-9733-4072-a0a8-72f71cc5d5e8",
   "metadata": {},
   "source": [
    "# Data Science Tools and Ecosystem"
   ]
  },
  {
   "cell_type": "markdown",
   "id": "3ba3425f-9c56-4255-bdd9-14b022ab3874",
   "metadata": {},
   "source": [
    "En este cuaderno, se resumen las herramientas y ecosistemas de ciencia de datos.\n",
    "    "
   ]
  },
  {
   "cell_type": "markdown",
   "id": "7c95ec22-0e4e-40b5-8648-7c45d2649d7b",
   "metadata": {},
   "source": [
    "**Objetivos:**\n",
    "\n",
    "- Listar lenguajes populares para Ciencia de Datos  \n",
    "- Enumerar bibliotecas comunes utilizadas por científicos de datos  \n",
    "- Crear tablas de herramientas de Ciencia de Datos  \n",
    "- Practicar operaciones aritméticas en Python  \n",
    "- Aprender a usar Markdown en Jupyter Notebooks"
   ]
  },
  {
   "cell_type": "markdown",
   "id": "8f0c33e0-ad1d-435b-81a2-d8a5b6001d93",
   "metadata": {},
   "source": [
    "Algunos de los lenguajes populares que ulilizan los cientificos de datos son:\n",
    "\n",
    "1. Python\n",
    "2. R\n",
    "3. SQL"
   ]
  },
  {
   "cell_type": "markdown",
   "id": "9cfbdfe5-26c1-4a50-8a16-9844dbc854ea",
   "metadata": {},
   "source": [
    "Algunas bibliotecas comunmente utilizadas por los cientificos de datos incluyen:\n",
    "1. Pandas\n",
    "2. NumPY\n",
    "3. Scikit-learn"
   ]
  },
  {
   "cell_type": "markdown",
   "id": "0c1f2197-1fb3-4dc8-8fb6-d06e1bbf361a",
   "metadata": {},
   "source": [
    "Herramientas:\n",
    "\n",
    "|Herramientas de ciencia de datos|\n",
    "|-----------------------------------|\n",
    "|Spark|\n",
    "|Jupyter Notebook|\n",
    "|RStudio  | \n",
    "    "
   ]
  },
  {
   "cell_type": "markdown",
   "id": "13ddbf8a-2913-4f7e-b415-7482e941137c",
   "metadata": {},
   "source": [
    "Esta es una expresion aritmetica simple para multiplicar y luego sumar enteros\n"
   ]
  },
  {
   "cell_type": "code",
   "execution_count": 2,
   "id": "d09400ee-3b8f-42dc-9882-cd06f57feb7a",
   "metadata": {},
   "outputs": [
    {
     "data": {
      "text/plain": [
       "17"
      ]
     },
     "execution_count": 2,
     "metadata": {},
     "output_type": "execute_result"
    }
   ],
   "source": [
    "(3*4)+5"
   ]
  },
  {
   "cell_type": "markdown",
   "id": "0c17a12e-6ad6-4e2d-9365-4796746d0588",
   "metadata": {},
   "source": [
    "Esto convertira 200 minutos a horas diviendo por 60\n"
   ]
  },
  {
   "cell_type": "code",
   "execution_count": 3,
   "id": "75364c18-dc3e-47eb-87fa-e85429563224",
   "metadata": {},
   "outputs": [
    {
     "data": {
      "text/plain": [
       "3.3333333333333335"
      ]
     },
     "execution_count": 3,
     "metadata": {},
     "output_type": "execute_result"
    }
   ],
   "source": [
    "200/60"
   ]
  },
  {
   "cell_type": "markdown",
   "id": "dca28e7a-ad69-43a3-9a25-57480c64e45c",
   "metadata": {},
   "source": [
    "## Autor\n",
    "De La Rivera Gabriel"
   ]
  },
  {
   "cell_type": "code",
   "execution_count": null,
   "id": "1abeddaa-b176-4bbb-8d9e-722ceb53fd7e",
   "metadata": {},
   "outputs": [],
   "source": []
  }
 ],
 "metadata": {
  "kernelspec": {
   "display_name": "Python 3 (ipykernel)",
   "language": "python",
   "name": "python3"
  },
  "language_info": {
   "codemirror_mode": {
    "name": "ipython",
    "version": 3
   },
   "file_extension": ".py",
   "mimetype": "text/x-python",
   "name": "python",
   "nbconvert_exporter": "python",
   "pygments_lexer": "ipython3",
   "version": "3.13.5"
  }
 },
 "nbformat": 4,
 "nbformat_minor": 5
}
